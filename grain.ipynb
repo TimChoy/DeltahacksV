{
 "cells": [
  {
   "cell_type": "code",
   "execution_count": 1,
   "metadata": {
    "collapsed": true
   },
   "outputs": [],
   "source": [
    "from numpy import *\n",
    "import pandas as pd\n",
    "from PIL import Image\n",
    "from copy import *\n"
   ]
  },
  {
   "cell_type": "code",
   "execution_count": 2,
   "metadata": {
    "collapsed": true
   },
   "outputs": [],
   "source": [
    "pixels_dict = {}\n",
    "readRGB = []\n",
    "solvedCat = []\n",
    "def readGraynne(image_name):\n",
    "    img = Image.open(image_name, 'r').convert('I')\n",
    "    data = asarray(img)\n",
    "    return data\n",
    "\n",
    "\n",
    "def fiveUp(readRGB):\n",
    "    diff = empty(len(readRGB))\n",
    "    for i in range(1024*5):\n",
    "        diff[i] = 0\n",
    "    for i in range(1024*5, len(readRGB)):\n",
    "        diff[i] =  readRGB[i] - readRGB[i - 5*1024]\n",
    "\n",
    "    return diff\n",
    "\n",
    "def fiveDown(readRGB):\n",
    "    diff = empty(len(readRGB))\n",
    "    for i in range(1024*(1024-5)):\n",
    "        diff[i] = readRGB[i] - readRGB[i + 5*1024]\n",
    "    for i in range(1024*(1024-5), len(readRGB)):\n",
    "        diff[i] = 0\n",
    "\n",
    "    return diff\n",
    "\n",
    "def fiveRight(readRGB):\n",
    "    diff = empty(len(readRGB))\n",
    "    for i in range(len(readRGB)):\n",
    "        if (i % 1024 < 1019):\n",
    "            diff[i] = readRGB[i] - readRGB[i + 5]\n",
    "        else:\n",
    "            diff[i] = 0\n",
    "\n",
    "    return diff\n",
    "\n",
    "def fiveLeft(readRGB):\n",
    "    diff = empty(len(readRGB))\n",
    "    for i in range(len(readRGB)):\n",
    "        if (i % 1024 > 4):\n",
    "            diff[i] = readRGB[i] - readRGB[i - 5]\n",
    "        else:\n",
    "            diff[i] = 0\n",
    "\n",
    "    return diff\n",
    "\n",
    "def tenUp(readRGB):\n",
    "    diff = empty(len(readRGB))\n",
    "    for i in range(1024*10):\n",
    "        diff[i] = 0\n",
    "    for i in range(1024*10, len(readRGB)):\n",
    "        diff[i] =  readRGB[i] - readRGB[i - 10*1024]\n",
    "\n",
    "    return diff\n",
    "\n",
    "def tenDown(readRGB):\n",
    "    diff = empty(len(readRGB))\n",
    "    for i in range(1024*(1024-10)):\n",
    "        diff[i] = readRGB[i] - readRGB[i + 10*1024]\n",
    "    for i in range(1024*(1024-10), len(readRGB)):\n",
    "        diff[i] = 0\n",
    "\n",
    "    return diff\n",
    "\n",
    "def tenRight(readRGB):\n",
    "    diff = empty(len(readRGB))\n",
    "    for i in range(len(readRGB)):\n",
    "        if (i % 1024 < 1014):\n",
    "            diff[i] = readRGB[i] - readRGB[i + 10]\n",
    "        else:\n",
    "            diff[i] = 0\n",
    "\n",
    "    return diff\n",
    "\n",
    "def tenLeft(readRGB):\n",
    "    diff = empty(len(readRGB))\n",
    "    for i in range(len(readRGB)):\n",
    "        if (i % 1024 > 9):\n",
    "            diff[i] = readRGB[i] - readRGB[i - 10]\n",
    "        else:\n",
    "            diff[i] = 0\n",
    "\n",
    "    return diff"
   ]
  },
  {
   "cell_type": "code",
   "execution_count": 3,
   "metadata": {},
   "outputs": [
    {
     "name": "stdout",
     "output_type": "stream",
     "text": [
      "10485760\n",
      "[58313 58562 58923 ... 39330 37379 36131]\n"
     ]
    }
   ],
   "source": [
    "for i in range(10):\n",
    "    readRGB.append(reshape(readGraynne(\"fake_microstructure/Target_1/image_\" + str(i) + \".png\"),1048576))\n",
    "\n",
    "for i in range(10):\n",
    "    solvedCat.append(reshape(readGraynne(\"fake_microstructure/Target_1/p2mask_np_\" + str(i) + \".png\"),1048576))\n",
    "    \n",
    "readRGB = reshape(readRGB, int(20971520/2))\n",
    "solvedCat = reshape(solvedCat,int(20971520/2))\n",
    "    \n",
    "pixelsFrame = pd.DataFrame(pixels_dict)\n",
    "print(size(readRGB))\n",
    "print(readRGB)\n",
    "\n"
   ]
  },
  {
   "cell_type": "code",
   "execution_count": 4,
   "metadata": {
    "collapsed": true
   },
   "outputs": [],
   "source": [
    "#print(len(solvedCat))\n",
    "#print(size(solvedCat))\n",
    "#print(solvedCat)"
   ]
  },
  {
   "cell_type": "code",
   "execution_count": 5,
   "metadata": {
    "collapsed": true
   },
   "outputs": [],
   "source": [
    "pixelsFrame['originalRGB'] = readRGB\n",
    "pixelsFrame['solved Cat'] = solvedCat\n",
    "\n",
    "pixelsFrame['dif5Right'] = fiveRight(readRGB)\n",
    "pixelsFrame['dif10Right'] = tenRight(readRGB)\n",
    "\n",
    "\n",
    "pixelsFrame['dif5Up'] = fiveUp(readRGB)\n",
    "pixelsFrame['dif10Up'] = tenUp(readRGB)\n",
    "\n",
    "\n",
    "pixelsFrame['dif5Left'] = fiveLeft(readRGB)\n",
    "pixelsFrame['dif10Left'] = tenLeft(readRGB)\n",
    "\n",
    "pixelsFrame['dif5down'] = fiveDown(readRGB)\n",
    "pixelsFrame['dif510down'] = tenDown(readRGB)\n"
   ]
  },
  {
   "cell_type": "code",
   "execution_count": 6,
   "metadata": {
    "collapsed": true
   },
   "outputs": [],
   "source": [
    "count = 0\n",
    "def category(data):\n",
    "    if data > 30000:\n",
    "        return 1\n",
    "    else:\n",
    "        count = 1\n",
    "        return 0\n",
    "\n",
    "        \n",
    "        "
   ]
  },
  {
   "cell_type": "code",
   "execution_count": 7,
   "metadata": {
    "collapsed": true
   },
   "outputs": [],
   "source": [
    "\n",
    "pixelsFrame[\"solved Cat\"] = pixelsFrame[\"solved Cat\"].apply(category)\n"
   ]
  },
  {
   "cell_type": "code",
   "execution_count": 8,
   "metadata": {},
   "outputs": [
    {
     "data": {
      "text/html": [
       "<div>\n",
       "<style>\n",
       "    .dataframe thead tr:only-child th {\n",
       "        text-align: right;\n",
       "    }\n",
       "\n",
       "    .dataframe thead th {\n",
       "        text-align: left;\n",
       "    }\n",
       "\n",
       "    .dataframe tbody tr th {\n",
       "        vertical-align: top;\n",
       "    }\n",
       "</style>\n",
       "<table border=\"1\" class=\"dataframe\">\n",
       "  <thead>\n",
       "    <tr style=\"text-align: right;\">\n",
       "      <th></th>\n",
       "      <th>originalRGB</th>\n",
       "      <th>solved Cat</th>\n",
       "      <th>dif5Right</th>\n",
       "      <th>dif10Right</th>\n",
       "      <th>dif5Up</th>\n",
       "      <th>dif10Up</th>\n",
       "      <th>dif5Left</th>\n",
       "      <th>dif10Left</th>\n",
       "      <th>dif5down</th>\n",
       "      <th>dif510down</th>\n",
       "    </tr>\n",
       "  </thead>\n",
       "  <tbody>\n",
       "    <tr>\n",
       "      <th>0</th>\n",
       "      <td>58313</td>\n",
       "      <td>1</td>\n",
       "      <td>-1547.0</td>\n",
       "      <td>-1465.0</td>\n",
       "      <td>0.0</td>\n",
       "      <td>0.0</td>\n",
       "      <td>0.0</td>\n",
       "      <td>0.0</td>\n",
       "      <td>-1309.0</td>\n",
       "      <td>-874.0</td>\n",
       "    </tr>\n",
       "    <tr>\n",
       "      <th>1</th>\n",
       "      <td>58562</td>\n",
       "      <td>1</td>\n",
       "      <td>-1394.0</td>\n",
       "      <td>-1155.0</td>\n",
       "      <td>0.0</td>\n",
       "      <td>0.0</td>\n",
       "      <td>0.0</td>\n",
       "      <td>0.0</td>\n",
       "      <td>-918.0</td>\n",
       "      <td>-327.0</td>\n",
       "    </tr>\n",
       "    <tr>\n",
       "      <th>2</th>\n",
       "      <td>58923</td>\n",
       "      <td>1</td>\n",
       "      <td>-1035.0</td>\n",
       "      <td>-740.0</td>\n",
       "      <td>0.0</td>\n",
       "      <td>0.0</td>\n",
       "      <td>0.0</td>\n",
       "      <td>0.0</td>\n",
       "      <td>-421.0</td>\n",
       "      <td>431.0</td>\n",
       "    </tr>\n",
       "    <tr>\n",
       "      <th>3</th>\n",
       "      <td>59311</td>\n",
       "      <td>1</td>\n",
       "      <td>-597.0</td>\n",
       "      <td>-317.0</td>\n",
       "      <td>0.0</td>\n",
       "      <td>0.0</td>\n",
       "      <td>0.0</td>\n",
       "      <td>0.0</td>\n",
       "      <td>74.0</td>\n",
       "      <td>1231.0</td>\n",
       "    </tr>\n",
       "    <tr>\n",
       "      <th>4</th>\n",
       "      <td>59641</td>\n",
       "      <td>1</td>\n",
       "      <td>-201.0</td>\n",
       "      <td>16.0</td>\n",
       "      <td>0.0</td>\n",
       "      <td>0.0</td>\n",
       "      <td>0.0</td>\n",
       "      <td>0.0</td>\n",
       "      <td>474.0</td>\n",
       "      <td>1903.0</td>\n",
       "    </tr>\n",
       "  </tbody>\n",
       "</table>\n",
       "</div>"
      ],
      "text/plain": [
       "   originalRGB  solved Cat  dif5Right  dif10Right  dif5Up  dif10Up  dif5Left  \\\n",
       "0        58313           1    -1547.0     -1465.0     0.0      0.0       0.0   \n",
       "1        58562           1    -1394.0     -1155.0     0.0      0.0       0.0   \n",
       "2        58923           1    -1035.0      -740.0     0.0      0.0       0.0   \n",
       "3        59311           1     -597.0      -317.0     0.0      0.0       0.0   \n",
       "4        59641           1     -201.0        16.0     0.0      0.0       0.0   \n",
       "\n",
       "   dif10Left  dif5down  dif510down  \n",
       "0        0.0   -1309.0      -874.0  \n",
       "1        0.0    -918.0      -327.0  \n",
       "2        0.0    -421.0       431.0  \n",
       "3        0.0      74.0      1231.0  \n",
       "4        0.0     474.0      1903.0  "
      ]
     },
     "execution_count": 8,
     "metadata": {},
     "output_type": "execute_result"
    }
   ],
   "source": [
    "pixelsFrame.head(5)"
   ]
  },
  {
   "cell_type": "code",
   "execution_count": 9,
   "metadata": {
    "collapsed": true
   },
   "outputs": [],
   "source": [
    "X = pixelsFrame.drop('solved Cat',axis = 1)\n",
    "y = pixelsFrame['solved Cat']"
   ]
  },
  {
   "cell_type": "code",
   "execution_count": 10,
   "metadata": {
    "collapsed": true
   },
   "outputs": [],
   "source": [
    "from sklearn.model_selection import train_test_split"
   ]
  },
  {
   "cell_type": "code",
   "execution_count": 11,
   "metadata": {
    "collapsed": true
   },
   "outputs": [],
   "source": [
    "X_train, X_test, y_train, y_test = train_test_split(X, y, test_size=0.33, random_state=42)"
   ]
  },
  {
   "cell_type": "code",
   "execution_count": 12,
   "metadata": {
    "collapsed": true
   },
   "outputs": [],
   "source": [
    "from sklearn.linear_model import LogisticRegression"
   ]
  },
  {
   "cell_type": "code",
   "execution_count": 13,
   "metadata": {},
   "outputs": [
    {
     "name": "stderr",
     "output_type": "stream",
     "text": [
      "C:\\Users\\dufau\\Anaconda3\\lib\\site-packages\\sklearn\\linear_model\\logistic.py:433: FutureWarning: Default solver will be changed to 'lbfgs' in 0.22. Specify a solver to silence this warning.\n",
      "  FutureWarning)\n"
     ]
    }
   ],
   "source": [
    "logmodel = LogisticRegression()\n",
    "logmodel.fit(X_train,y_train)\n",
    "predictions = logmodel.predict(X_test)"
   ]
  },
  {
   "cell_type": "code",
   "execution_count": 14,
   "metadata": {
    "collapsed": true
   },
   "outputs": [],
   "source": [
    "from sklearn.metrics import confusion_matrix"
   ]
  },
  {
   "cell_type": "code",
   "execution_count": 15,
   "metadata": {},
   "outputs": [
    {
     "data": {
      "text/plain": [
       "array([[ 102566,  645852],\n",
       "       [   4438, 2707445]], dtype=int64)"
      ]
     },
     "execution_count": 15,
     "metadata": {},
     "output_type": "execute_result"
    }
   ],
   "source": [
    "confusion_matrix(y_test,predictions)"
   ]
  },
  {
   "cell_type": "code",
   "execution_count": null,
   "metadata": {
    "collapsed": true
   },
   "outputs": [],
   "source": [
    "%matplotlib inline\n",
    "pixelsFrame[\"solved Cat\"].hist()"
   ]
  },
  {
   "cell_type": "code",
   "execution_count": null,
   "metadata": {
    "collapsed": true
   },
   "outputs": [],
   "source": []
  }
 ],
 "metadata": {
  "kernelspec": {
   "display_name": "Python 3",
   "language": "python",
   "name": "python3"
  },
  "language_info": {
   "codemirror_mode": {
    "name": "ipython",
    "version": 3
   },
   "file_extension": ".py",
   "mimetype": "text/x-python",
   "name": "python",
   "nbconvert_exporter": "python",
   "pygments_lexer": "ipython3",
   "version": "3.6.7"
  }
 },
 "nbformat": 4,
 "nbformat_minor": 2
}
