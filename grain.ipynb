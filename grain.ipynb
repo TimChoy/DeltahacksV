{
 "cells": [
  {
   "cell_type": "code",
   "execution_count": 39,
   "metadata": {
    "collapsed": true
   },
   "outputs": [],
   "source": [
    "from numpy import *\n",
    "import pandas as pd\n",
    "from PIL import Image\n",
    "from copy import *\n"
   ]
  },
  {
   "cell_type": "code",
   "execution_count": 40,
   "metadata": {},
   "outputs": [],
   "source": [
    "pixels_dict = {}\n",
    "readRGB = []\n",
    "solvedCat = []\n",
    "def readGraynne(image_name):\n",
    "    img = Image.open(image_name, 'r').convert('I')\n",
    "    data = asarray(img)\n",
    "    return data\n",
    "\n",
    "\n",
    "def diffRight(readRGB):\n",
    "    diff = empty(20971520)\n",
    "    for index in range(len(readRGB)-1):\n",
    "        diff[index] = readRGB[index] -  readRGB[index+1]\n",
    "    diff[20971520-1] = 0\n",
    "    return diff\n",
    "\n",
    "\n",
    "def diffUp(readRGB):\n",
    "    diff = empty(20971520)\n",
    "    for index in range(1024):\n",
    "        diff[index] = 0\n",
    "    for index in range(1024,len(readRGB)):\n",
    "        diff[index] = readRGB[index] -  readRGB[index-1024]\n",
    "    return diff\n",
    "\n",
    "def diffDown(readRGB):\n",
    "    diff = empty(20971520)\n",
    "    for index in range(len(readRGB),len(readRGB)-1024):\n",
    "        diff[index] = readRGB[index] -  readRGB[index+1024]\n",
    "    for index in range(len(readRGB)-1024,len(readRGB)):\n",
    "        diff[index] = 0\n",
    "    return diff\n",
    "\n",
    "\n",
    "def diffLeft(readRGB):\n",
    "    diff = empty(20971520)\n",
    "    diff[0] = 0\n",
    "    for index in range(1,len(readRGB)):\n",
    "        diff[index] = readRGB[index] -  readRGB[index-1]\n",
    "    return diff"
   ]
  },
  {
   "cell_type": "code",
   "execution_count": 41,
   "metadata": {},
   "outputs": [
    {
     "name": "stdout",
     "output_type": "stream",
     "text": [
      "20971520\n",
      "[58313 58562 58923 ... 23810 23635 23457]\n"
     ]
    }
   ],
   "source": [
    "for i in range(20):\n",
    "    readRGB.append(reshape(readGraynne(\"fake_microstructure/Target_1/image_\" + str(i) + \".png\"),1048576))\n",
    "\n",
    "for i in range(20):\n",
    "    solvedCat.append(reshape(readGraynne(\"fake_microstructure/Target_1/p2mask_np_\" + str(i) + \".png\"),1048576))\n",
    "    \n",
    "readRGB = reshape(readRGB, int(20971520))\n",
    "solvedCat = reshape(solvedCat,int(20971520))\n",
    "    \n",
    "pixelsFrame = pd.DataFrame(pixels_dict)\n",
    "print(size(readRGB))\n",
    "print(readRGB)\n",
    "\n"
   ]
  },
  {
   "cell_type": "code",
   "execution_count": 42,
   "metadata": {
    "collapsed": true
   },
   "outputs": [],
   "source": [
    "#print(len(solvedCat))\n",
    "#print(size(solvedCat))\n",
    "#print(solvedCat)"
   ]
  },
  {
   "cell_type": "code",
   "execution_count": 43,
   "metadata": {},
   "outputs": [
    {
     "ename": "IndexError",
     "evalue": "index 209715199 is out of bounds for axis 0 with size 20971520",
     "output_type": "error",
     "traceback": [
      "\u001b[1;31m---------------------------------------------------------------------------\u001b[0m",
      "\u001b[1;31mIndexError\u001b[0m                                Traceback (most recent call last)",
      "\u001b[1;32m<ipython-input-43-7d5ba57c94a5>\u001b[0m in \u001b[0;36m<module>\u001b[1;34m()\u001b[0m\n\u001b[0;32m      1\u001b[0m \u001b[0mpixelsFrame\u001b[0m\u001b[1;33m[\u001b[0m\u001b[1;34m'originalRGB'\u001b[0m\u001b[1;33m]\u001b[0m \u001b[1;33m=\u001b[0m \u001b[0mreadRGB\u001b[0m\u001b[1;33m\u001b[0m\u001b[1;33m\u001b[0m\u001b[0m\n\u001b[0;32m      2\u001b[0m \u001b[0mpixelsFrame\u001b[0m\u001b[1;33m[\u001b[0m\u001b[1;34m'solved Cat'\u001b[0m\u001b[1;33m]\u001b[0m \u001b[1;33m=\u001b[0m \u001b[0msolvedCat\u001b[0m\u001b[1;33m\u001b[0m\u001b[1;33m\u001b[0m\u001b[0m\n\u001b[1;32m----> 3\u001b[1;33m \u001b[0mpixelsFrame\u001b[0m\u001b[1;33m[\u001b[0m\u001b[1;34m'difRight'\u001b[0m\u001b[1;33m]\u001b[0m \u001b[1;33m=\u001b[0m \u001b[0mdiffRight\u001b[0m\u001b[1;33m(\u001b[0m\u001b[0mreadRGB\u001b[0m\u001b[1;33m)\u001b[0m\u001b[1;33m\u001b[0m\u001b[1;33m\u001b[0m\u001b[0m\n\u001b[0m\u001b[0;32m      4\u001b[0m \u001b[1;31m#pixelsFrame['difUpRight'] = diffRight(readRGB, solvedCat)\u001b[0m\u001b[1;33m\u001b[0m\u001b[1;33m\u001b[0m\u001b[1;33m\u001b[0m\u001b[0m\n\u001b[0;32m      5\u001b[0m \u001b[1;33m\u001b[0m\u001b[0m\n",
      "\u001b[1;32m<ipython-input-40-05d818ea835d>\u001b[0m in \u001b[0;36mdiffRight\u001b[1;34m(readRGB)\u001b[0m\n\u001b[0;32m     12\u001b[0m     \u001b[1;32mfor\u001b[0m \u001b[0mindex\u001b[0m \u001b[1;32min\u001b[0m \u001b[0mrange\u001b[0m\u001b[1;33m(\u001b[0m\u001b[0mlen\u001b[0m\u001b[1;33m(\u001b[0m\u001b[0mreadRGB\u001b[0m\u001b[1;33m)\u001b[0m\u001b[1;33m-\u001b[0m\u001b[1;36m1\u001b[0m\u001b[1;33m)\u001b[0m\u001b[1;33m:\u001b[0m\u001b[1;33m\u001b[0m\u001b[1;33m\u001b[0m\u001b[0m\n\u001b[0;32m     13\u001b[0m         \u001b[0mdiff\u001b[0m\u001b[1;33m[\u001b[0m\u001b[0mindex\u001b[0m\u001b[1;33m]\u001b[0m \u001b[1;33m=\u001b[0m \u001b[0mreadRGB\u001b[0m\u001b[1;33m[\u001b[0m\u001b[0mindex\u001b[0m\u001b[1;33m]\u001b[0m \u001b[1;33m-\u001b[0m  \u001b[0mreadRGB\u001b[0m\u001b[1;33m[\u001b[0m\u001b[0mindex\u001b[0m\u001b[1;33m+\u001b[0m\u001b[1;36m1\u001b[0m\u001b[1;33m]\u001b[0m\u001b[1;33m\u001b[0m\u001b[1;33m\u001b[0m\u001b[0m\n\u001b[1;32m---> 14\u001b[1;33m     \u001b[0mdiff\u001b[0m\u001b[1;33m[\u001b[0m\u001b[1;36m209715200\u001b[0m\u001b[1;33m-\u001b[0m\u001b[1;36m1\u001b[0m\u001b[1;33m]\u001b[0m \u001b[1;33m=\u001b[0m \u001b[1;36m0\u001b[0m\u001b[1;33m\u001b[0m\u001b[1;33m\u001b[0m\u001b[0m\n\u001b[0m\u001b[0;32m     15\u001b[0m     \u001b[1;32mreturn\u001b[0m \u001b[0mdiff\u001b[0m\u001b[1;33m\u001b[0m\u001b[1;33m\u001b[0m\u001b[0m\n\u001b[0;32m     16\u001b[0m \u001b[1;33m\u001b[0m\u001b[0m\n",
      "\u001b[1;31mIndexError\u001b[0m: index 209715199 is out of bounds for axis 0 with size 20971520"
     ]
    }
   ],
   "source": [
    "pixelsFrame['originalRGB'] = readRGB\n",
    "pixelsFrame['solved Cat'] = solvedCat\n",
    "pixelsFrame['difRight'] = diffRight(readRGB)\n",
    "#pixelsFrame['difUpRight'] = diffRight(readRGB, solvedCat)\n",
    "\n",
    "#pixelsFrame['difUp'] =\n",
    "#pixelsFrame['difLeftUp'] =\n",
    "#pixelsFrame['difLeft'] =\n",
    "#pixelsFrame['difLeftDown'] =\n",
    "#pixelsFrame['difDown'] =\n",
    "#ixelsFrame['difRightDown']"
   ]
  },
  {
   "cell_type": "code",
   "execution_count": null,
   "metadata": {
    "collapsed": true
   },
   "outputs": [],
   "source": [
    "#pixelsFrame['difUpRight'].head(5)"
   ]
  },
  {
   "cell_type": "code",
   "execution_count": null,
   "metadata": {},
   "outputs": [],
   "source": [
    "pixelsFrame['difRight'] "
   ]
  },
  {
   "cell_type": "code",
   "execution_count": null,
   "metadata": {
    "collapsed": true
   },
   "outputs": [],
   "source": []
  },
  {
   "cell_type": "code",
   "execution_count": null,
   "metadata": {
    "collapsed": true
   },
   "outputs": [],
   "source": []
  }
 ],
 "metadata": {
  "kernelspec": {
   "display_name": "Python 3",
   "language": "python",
   "name": "python3"
  },
  "language_info": {
   "codemirror_mode": {
    "name": "ipython",
    "version": 3
   },
   "file_extension": ".py",
   "mimetype": "text/x-python",
   "name": "python",
   "nbconvert_exporter": "python",
   "pygments_lexer": "ipython3",
   "version": "3.6.7"
  }
 },
 "nbformat": 4,
 "nbformat_minor": 2
}
