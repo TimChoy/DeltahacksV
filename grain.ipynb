{
 "cells": [
  {
   "cell_type": "code",
   "execution_count": 17,
   "metadata": {
    "collapsed": true
   },
   "outputs": [],
   "source": [
    "from numpy import *\n",
    "import pandas as pd\n",
    "from PIL import Image\n",
    "from copy import *\n"
   ]
  },
  {
   "cell_type": "code",
   "execution_count": 18,
   "metadata": {
    "collapsed": true
   },
   "outputs": [],
   "source": [
    "pixels_dict = {}\n",
    "readRGB = []\n",
    "solvedCat = []\n",
    "def readGraynne(image_name):\n",
    "    img = Image.open(image_name, 'r').convert('I')\n",
    "    data = asarray(img)\n",
    "    return data\n",
    "\n",
    "\n",
    "def diffRight(readRGB):\n",
    "    diff = empty(int(20971520/2))\n",
    "    for index in range(len(readRGB)-1):\n",
    "        diff[index] = readRGB[index] -  readRGB[index+1]\n",
    "    diff[int(20971520/2)-1] = 0\n",
    "    return diff\n",
    "\n",
    "\n",
    "def diffUp(readRGB):\n",
    "    diff = empty(int(20971520/2))\n",
    "    for index in range(1024):\n",
    "        diff[index] = 0\n",
    "    for index in range(1024,len(readRGB)):\n",
    "        diff[index] = readRGB[index] -  readRGB[index-1024]\n",
    "    return diff\n",
    "\n",
    "def diffDown(readRGB):\n",
    "    diff = empty(int(20971520/2))\n",
    "    for index in range(len(readRGB)-1024):\n",
    "        diff[index] = readRGB[index] -  readRGB[index+1024]\n",
    "    for index in range(len(readRGB)-1024,len(readRGB)):\n",
    "        diff[index] = 0\n",
    "    return diff\n",
    "\n",
    "\n",
    "def diffLeft(readRGB):\n",
    "    diff = empty(int(20971520/2))\n",
    "    diff[0] = 0\n",
    "    for index in range(1,len(readRGB)):\n",
    "        diff[index] = readRGB[index] -  readRGB[index-1]\n",
    "    return diff"
   ]
  },
  {
   "cell_type": "code",
   "execution_count": 19,
   "metadata": {},
   "outputs": [
    {
     "name": "stdout",
     "output_type": "stream",
     "text": [
      "83886080\n",
      "[58313 58562 58923 ... 17848 17971 18100]\n"
     ]
    }
   ],
   "source": [
    "for i in range(10):\n",
    "    readRGB.append(reshape(readGraynne(\"fake_microstructure/Target_1/image_\" + str(i) + \".png\"),1048576))\n",
    "\n",
    "for i in range(10):\n",
    "    solvedCat.append(reshape(readGraynne(\"fake_microstructure/Target_1/p2mask_np_\" + str(i) + \".png\"),1048576))\n",
    "    \n",
    "readRGB = reshape(readRGB, int(20971520/2))\n",
    "solvedCat = reshape(solvedCat,int(20971520/2))\n",
    "    \n",
    "pixelsFrame = pd.DataFrame(pixels_dict)\n",
    "print(size(readRGB))\n",
    "print(readRGB)\n",
    "\n"
   ]
  },
  {
   "cell_type": "code",
   "execution_count": 20,
   "metadata": {
    "collapsed": true
   },
   "outputs": [],
   "source": [
    "#print(len(solvedCat))\n",
    "#print(size(solvedCat))\n",
    "#print(solvedCat)"
   ]
  },
  {
   "cell_type": "code",
   "execution_count": 21,
   "metadata": {
    "collapsed": true
   },
   "outputs": [],
   "source": [
    "pixelsFrame['originalRGB'] = readRGB\n",
    "pixelsFrame['solved Cat'] = solvedCat\n",
    "pixelsFrame['difRight'] = diffRight(readRGB)\n",
    "#pixelsFrame['difUpRight'] = diffRight(readRGB, solvedCat)\n",
    "\n",
    "pixelsFrame['difUp'] = diffUp(readRGB)\n",
    "#pixelsFrame['difLeftUp'] =\n",
    "pixelsFrame['difLeft'] = diffLeft(readRGB)\n",
    "#pixelsFrame['difLeftDown'] =\n",
    "pixelsFrame['difDown'] = diffDown(readRGB)\n",
    "#ixelsFrame['difRightDown']"
   ]
  },
  {
   "cell_type": "code",
   "execution_count": 22,
   "metadata": {
    "collapsed": true
   },
   "outputs": [],
   "source": [
    "count = 0\n",
    "def category(data):\n",
    "    if data > 30000:\n",
    "        return 1\n",
    "    else:\n",
    "        count = 1\n",
    "        return 0\n",
    "\n",
    "        \n",
    "        "
   ]
  },
  {
   "cell_type": "code",
   "execution_count": 23,
   "metadata": {
    "collapsed": true
   },
   "outputs": [],
   "source": [
    "\n",
    "pixelsFrame[\"solved Cat\"] = pixelsFrame[\"solved Cat\"].apply(category)\n"
   ]
  },
  {
   "cell_type": "code",
   "execution_count": 24,
   "metadata": {},
   "outputs": [
    {
     "data": {
      "text/html": [
       "<div>\n",
       "<style>\n",
       "    .dataframe thead tr:only-child th {\n",
       "        text-align: right;\n",
       "    }\n",
       "\n",
       "    .dataframe thead th {\n",
       "        text-align: left;\n",
       "    }\n",
       "\n",
       "    .dataframe tbody tr th {\n",
       "        vertical-align: top;\n",
       "    }\n",
       "</style>\n",
       "<table border=\"1\" class=\"dataframe\">\n",
       "  <thead>\n",
       "    <tr style=\"text-align: right;\">\n",
       "      <th></th>\n",
       "      <th>originalRGB</th>\n",
       "      <th>solved Cat</th>\n",
       "      <th>difRight</th>\n",
       "      <th>difUp</th>\n",
       "      <th>difLeft</th>\n",
       "      <th>difDown</th>\n",
       "    </tr>\n",
       "  </thead>\n",
       "  <tbody>\n",
       "    <tr>\n",
       "      <th>0</th>\n",
       "      <td>58313</td>\n",
       "      <td>1</td>\n",
       "      <td>-249.0</td>\n",
       "      <td>0.0</td>\n",
       "      <td>0.0</td>\n",
       "      <td>-96.0</td>\n",
       "    </tr>\n",
       "    <tr>\n",
       "      <th>1</th>\n",
       "      <td>58562</td>\n",
       "      <td>1</td>\n",
       "      <td>-361.0</td>\n",
       "      <td>0.0</td>\n",
       "      <td>249.0</td>\n",
       "      <td>-25.0</td>\n",
       "    </tr>\n",
       "    <tr>\n",
       "      <th>2</th>\n",
       "      <td>58923</td>\n",
       "      <td>1</td>\n",
       "      <td>-388.0</td>\n",
       "      <td>0.0</td>\n",
       "      <td>361.0</td>\n",
       "      <td>42.0</td>\n",
       "    </tr>\n",
       "    <tr>\n",
       "      <th>3</th>\n",
       "      <td>59311</td>\n",
       "      <td>1</td>\n",
       "      <td>-330.0</td>\n",
       "      <td>0.0</td>\n",
       "      <td>388.0</td>\n",
       "      <td>91.0</td>\n",
       "    </tr>\n",
       "    <tr>\n",
       "      <th>4</th>\n",
       "      <td>59641</td>\n",
       "      <td>1</td>\n",
       "      <td>-219.0</td>\n",
       "      <td>0.0</td>\n",
       "      <td>330.0</td>\n",
       "      <td>117.0</td>\n",
       "    </tr>\n",
       "  </tbody>\n",
       "</table>\n",
       "</div>"
      ],
      "text/plain": [
       "   originalRGB  solved Cat  difRight  difUp  difLeft  difDown\n",
       "0        58313           1    -249.0    0.0      0.0    -96.0\n",
       "1        58562           1    -361.0    0.0    249.0    -25.0\n",
       "2        58923           1    -388.0    0.0    361.0     42.0\n",
       "3        59311           1    -330.0    0.0    388.0     91.0\n",
       "4        59641           1    -219.0    0.0    330.0    117.0"
      ]
     },
     "execution_count": 24,
     "metadata": {},
     "output_type": "execute_result"
    }
   ],
   "source": [
    "pixelsFrame.head(5)"
   ]
  },
  {
   "cell_type": "code",
   "execution_count": 25,
   "metadata": {
    "collapsed": true
   },
   "outputs": [],
   "source": [
    "X = pixelsFrame.drop('solved Cat',axis = 1)\n",
    "y = pixelsFrame['solved Cat']"
   ]
  },
  {
   "cell_type": "code",
   "execution_count": 26,
   "metadata": {
    "collapsed": true
   },
   "outputs": [],
   "source": [
    "from sklearn.model_selection import train_test_split"
   ]
  },
  {
   "cell_type": "code",
   "execution_count": 27,
   "metadata": {
    "collapsed": true
   },
   "outputs": [],
   "source": [
    "X_train, X_test, y_train, y_test = train_test_split(X, y, test_size=0.33, random_state=42)"
   ]
  },
  {
   "cell_type": "code",
   "execution_count": null,
   "metadata": {
    "collapsed": true
   },
   "outputs": [],
   "source": [
    "from sklearn.linear_model import LogisticRegression"
   ]
  },
  {
   "cell_type": "code",
   "execution_count": null,
   "metadata": {},
   "outputs": [
    {
     "name": "stderr",
     "output_type": "stream",
     "text": [
      "C:\\Users\\dufau\\Anaconda3\\lib\\site-packages\\sklearn\\linear_model\\logistic.py:433: FutureWarning: Default solver will be changed to 'lbfgs' in 0.22. Specify a solver to silence this warning.\n",
      "  FutureWarning)\n"
     ]
    }
   ],
   "source": [
    "logmodel = LogisticRegression()\n",
    "logmodel.fit(X_train,y_train)\n",
    "predictions = logmodel.predict(X_test)"
   ]
  },
  {
   "cell_type": "code",
   "execution_count": null,
   "metadata": {
    "collapsed": true
   },
   "outputs": [],
   "source": [
    "from sklearn.metrics import confusion_matrix"
   ]
  },
  {
   "cell_type": "code",
   "execution_count": null,
   "metadata": {
    "collapsed": true
   },
   "outputs": [],
   "source": [
    "confusion_matrix(y_test,predictions)"
   ]
  },
  {
   "cell_type": "code",
   "execution_count": null,
   "metadata": {
    "collapsed": true
   },
   "outputs": [],
   "source": [
    "%matplotlib inline\n",
    "pixelsFrame[\"solved Cat\"].hist()"
   ]
  },
  {
   "cell_type": "code",
   "execution_count": null,
   "metadata": {
    "collapsed": true
   },
   "outputs": [],
   "source": []
  }
 ],
 "metadata": {
  "kernelspec": {
   "display_name": "Python 3",
   "language": "python",
   "name": "python3"
  },
  "language_info": {
   "codemirror_mode": {
    "name": "ipython",
    "version": 3
   },
   "file_extension": ".py",
   "mimetype": "text/x-python",
   "name": "python",
   "nbconvert_exporter": "python",
   "pygments_lexer": "ipython3",
   "version": "3.6.7"
  }
 },
 "nbformat": 4,
 "nbformat_minor": 2
}
