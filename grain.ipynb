{
 "cells": [
  {
   "cell_type": "code",
   "execution_count": 29,
   "metadata": {
    "collapsed": true
   },
   "outputs": [],
   "source": [
    "from numpy import *\n",
    "import pandas as pd\n",
    "from PIL import Image\n",
    "from copy import *"
   ]
  },
  {
   "cell_type": "code",
   "execution_count": 30,
   "metadata": {
    "collapsed": true
   },
   "outputs": [],
   "source": [
    "pixels_dict = {}\n",
    "readRGB = []\n",
    "solvedCat = []\n",
    "def readGraynne(image_name):\n",
    "    img = Image.open(image_name, 'r').convert('I')\n",
    "    data = asarray(img)\n",
    "    return data\n",
    "\n",
    "def flatten(list2D):\n",
    "    toFlatten = copy(list2D)\n",
    "    flattened = []\n",
    "    for i in range(len(toFlatten)):\n",
    "        for j in range(len(toFlatten[i])):\n",
    "            flattened.append(toFlatten[i][j])\n",
    "    return flattened\n",
    "\n",
    "def diffRight(readRGB, solvedCat):\n",
    "    diff = empty(209715200)\n",
    "    for index in range(len(readRGB)):\n",
    "        if(index % 1024 != 1023):\n",
    "            diff[index] = readRGB[index] - solvedCat[index]\n",
    "        else:\n",
    "            diff[index] = nan"
   ]
  },
  {
   "cell_type": "code",
   "execution_count": 31,
   "metadata": {},
   "outputs": [
    {
     "name": "stdout",
     "output_type": "stream",
     "text": [
      "209715200\n",
      "[58313 58562 58923 ... 57430 57552 57621]\n"
     ]
    }
   ],
   "source": [
    "for i in range(200):\n",
    "    readRGB.append(reshape(readGraynne(\"fake_microstructure/Target_1/image_\" + str(i) + \".png\"),1048576))\n",
    "\n",
    "for i in range(200):\n",
    "    solvedCat.append(reshape(readGraynne(\"fake_microstructure/Target_1/p2mask_np_\" + str(i) + \".png\"),1048576))\n",
    "    \n",
    "readRGB = reshape(readRGB,209715200)\n",
    "solvedCat = reshape(solvedCat,209715200)\n",
    "    \n",
    "pixelsFrame = pd.DataFrame(pixels_dict)\n",
    "print(size(readRGB))\n",
    "print(readRGB)\n",
    "\n"
   ]
  },
  {
   "cell_type": "code",
   "execution_count": 32,
   "metadata": {},
   "outputs": [
    {
     "name": "stdout",
     "output_type": "stream",
     "text": [
      "209715200\n",
      "209715200\n",
      "[65535 65535 65535 ... 65535 65535 65535]\n"
     ]
    }
   ],
   "source": [
    "print(len(solvedCat))\n",
    "print(size(solvedCat))\n",
    "print(solvedCat)"
   ]
  },
  {
   "cell_type": "code",
   "execution_count": null,
   "metadata": {},
   "outputs": [],
   "source": [
    "pixelsFrame['originalRGB'] = readRGB\n",
    "pixelsFrame['solved Cat'] = solvedCat\n",
    "pixelsFrame['difRight'] = readRGB\n",
    "pixelsFrame['difUpRight'] = diffRight(readRGB, solvedCat)\n",
    "\n",
    "#pixelsFrame['difUp'] =\n",
    "#pixelsFrame['difLeftUp'] =\n",
    "#pixelsFrame['difLeft'] =\n",
    "#pixelsFrame['difLeftDown'] =\n",
    "#pixelsFrame['difDown'] =\n",
    "#ixelsFrame['difRightDown']"
   ]
  },
  {
   "cell_type": "code",
   "execution_count": null,
   "metadata": {
    "collapsed": true
   },
   "outputs": [],
   "source": [
    "pixelsFrame['difUpRight'].head(5)"
   ]
  }
 ],
 "metadata": {
  "kernelspec": {
   "display_name": "Python 3",
   "language": "python",
   "name": "python3"
  },
  "language_info": {
   "codemirror_mode": {
    "name": "ipython",
    "version": 3
   },
   "file_extension": ".py",
   "mimetype": "text/x-python",
   "name": "python",
   "nbconvert_exporter": "python",
   "pygments_lexer": "ipython3",
   "version": "3.6.7"
  }
 },
 "nbformat": 4,
 "nbformat_minor": 2
}
