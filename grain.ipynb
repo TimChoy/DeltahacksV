{
 "cells": [
  {
   "cell_type": "code",
   "execution_count": 8,
   "metadata": {
    "collapsed": true
   },
   "outputs": [],
   "source": [
    "from numpy import *\n",
    "import pandas as pd\n",
    "from PIL import Image\n",
    "from copy import *"
   ]
  },
  {
   "cell_type": "code",
   "execution_count": 1,
   "metadata": {
    "collapsed": true
   },
   "outputs": [],
   "source": [
    "pixels_dict = {}\n",
    "readRGB = []\n",
    "solvedCat = []\n",
    "def readGraynne(image_name):\n",
    "    img = Image.open(image_name, 'r').convert('I')\n",
    "    data = asarray(img)\n",
    "    return data\n",
    "\n",
    "def flatten(list2D):\n",
    "    toFlatten = copy(list2D)\n",
    "    flattened = []\n",
    "    for i in range(len(toFlatten)):\n",
    "        for j in range(len(toFlatten[i])):\n",
    "            flattened.append(toFlatten[i][j])\n",
    "    return flattened"
   ]
  },
  {
   "cell_type": "code",
   "execution_count": null,
   "metadata": {},
   "outputs": [],
   "source": [
    "for i in range(200):\n",
    "    readRGB.append(flatten(readGraynne(\"fake_microstructure/Target_1/image_\" + str(i) + \".png\")))\n",
    "\n",
    "for i in range(200):\n",
    "    solvedCat.append(flatten(readGraynne(\"fake_microstructure/Target_1/p2mask_np_\" + str(i) + \".png\")))\n",
    "\n",
    "pixelsFrame = pd.DataFrame(pixels_dict)\n",
    "size(readRGB)\n"
   ]
  },
  {
   "cell_type": "code",
   "execution_count": null,
   "metadata": {
    "collapsed": true
   },
   "outputs": [],
   "source": [
    "pixelsFrame['originalRGB'] = \n",
    "pixelsFrame['solved Cat'] =\n",
    "pixelsFrame['difRight'] =\n",
    "pixelsFrame['difUpRight'] =\n",
    "pixelsFrame['difUp'] =\n",
    "pixelsFrame['difLeftUp'] =\n",
    "pixelsFrame['difLeft'] =\n",
    "pixelsFrame['difLeftDown'] =\n",
    "pixelsFrame['difDown'] =\n",
    "pixelsFrame['difRightDown']"
   ]
  }
 ],
 "metadata": {
  "kernelspec": {
   "display_name": "Python 3",
   "language": "python",
   "name": "python3"
  },
  "language_info": {
   "codemirror_mode": {
    "name": "ipython",
    "version": 3
   },
   "file_extension": ".py",
   "mimetype": "text/x-python",
   "name": "python",
   "nbconvert_exporter": "python",
   "pygments_lexer": "ipython3",
   "version": "3.6.7"
  }
 },
 "nbformat": 4,
 "nbformat_minor": 2
}
